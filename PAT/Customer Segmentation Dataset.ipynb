{
  "nbformat": 4,
  "nbformat_minor": 0,
  "metadata": {
    "colab": {
      "provenance": []
    },
    "kernelspec": {
      "name": "python3",
      "display_name": "Python 3"
    },
    "language_info": {
      "name": "python"
    }
  },
  "cells": [
    {
      "cell_type": "markdown",
      "source": [
        "**Machine Learning Lab (PMCA507P)**\n",
        "\n",
        "> **Reg No:** 23MCA1030\n",
        "\n",
        ">**Name :**  Vinayak Kumar Singh"
      ],
      "metadata": {
        "id": "j1YKJSBZniJC"
      }
    },
    {
      "cell_type": "markdown",
      "source": [
        "**Pat 1: Customer Segmentation Dataset**"
      ],
      "metadata": {
        "id": "WYb18H5znlyh"
      }
    },
    {
      "cell_type": "markdown",
      "source": [
        "**Collab url :** https://colab.research.google.com/drive/1BiBmxQlCDs2bhmqgPN1vMwfIkJdkedIN?usp=sharing\n",
        "\n",
        "Customer Segmentation Dataset"
      ],
      "metadata": {
        "id": "7YSm1IROnorp"
      }
    },
    {
      "cell_type": "markdown",
      "source": [
        "Question: Perform exploratory data analysis on the customer segmentation dataset. Load the dataset and split the dataset into 70 (training) and 30(test).\n",
        "\n",
        "(i)   Bring out the correlation between Marital status, Educational Level, Geographic Location, Occupation, and Segmentation group and try to predict if there is a significance between the segmentation group and geographical Location.\n",
        "\n",
        "(ii)  Identify the independent variables (features) and the dependent variable (target) and fit a logistic regression model to the training data. Check the performance of the model on the training data.\n",
        "\n",
        "(iii) Classify the data based on the segmentation group using a Naïve Bayes Classifier. Use appropriate metrics to evaluate the model and compare the results 80% training data and 20% test data."
      ],
      "metadata": {
        "id": "HZO1ejakoYvp"
      }
    },
    {
      "cell_type": "markdown",
      "source": [
        "# Import necessary libraries\n",
        "\n"
      ],
      "metadata": {
        "id": "2jYOtcAtnqeJ"
      }
    },
    {
      "cell_type": "code",
      "source": [
        "import pandas as pd\n",
        "from sklearn.model_selection import train_test_split\n",
        "\n",
        "from sklearn.preprocessing import StandardScaler\n",
        "from sklearn.svm import SVC\n",
        "\n",
        "from scipy import stats\n",
        "\n",
        "from sklearn.naive_bayes import GaussianNB\n",
        "from sklearn.metrics import accuracy_score\n",
        "from sklearn.preprocessing import LabelEncoder\n",
        "\n",
        "from sklearn.preprocessing import OneHotEncoder\n",
        "from sklearn.metrics import accuracy_score, classification_report\n",
        "\n",
        "from sklearn.linear_model import LogisticRegression"
      ],
      "metadata": {
        "id": "oXt2vfRcntAZ"
      },
      "execution_count": null,
      "outputs": []
    },
    {
      "cell_type": "markdown",
      "source": [
        "# Load the dataset\n"
      ],
      "metadata": {
        "id": "jYRgD7lonxRn"
      }
    },
    {
      "cell_type": "code",
      "source": [
        "dataset = pd.read_csv('/content/Customer segmentation Dataset.csv')"
      ],
      "metadata": {
        "id": "x8ZQBuIKny2v"
      },
      "execution_count": null,
      "outputs": []
    },
    {
      "cell_type": "markdown",
      "source": [
        "#Printing dataset"
      ],
      "metadata": {
        "id": "5FwYhk0WsIch"
      }
    },
    {
      "cell_type": "code",
      "source": [
        "print(dataset)"
      ],
      "metadata": {
        "colab": {
          "base_uri": "https://localhost:8080/"
        },
        "id": "bpIBoBhNrUyp",
        "outputId": "5ad613e6-0fdd-454f-c976-7ae1d8ce8ae6"
      },
      "execution_count": null,
      "outputs": [
        {
          "output_type": "stream",
          "name": "stdout",
          "text": [
            "       Customer ID  Age  Gender Marital Status      Education Level  \\\n",
            "0            84966   23  Female        Married     Associate Degree   \n",
            "1            95568   26    Male        Widowed            Doctorate   \n",
            "2            10544   29  Female         Single     Associate Degree   \n",
            "3            77033   20    Male       Divorced    Bachelor's Degree   \n",
            "4            88160   25  Female      Separated    Bachelor's Degree   \n",
            "...            ...  ...     ...            ...                  ...   \n",
            "19367        84792   23    Male        Widowed    Bachelor's Degree   \n",
            "19368        70178   21    Male       Divorced     Associate Degree   \n",
            "19369        12504   34    Male      Separated  High School Diploma   \n",
            "19370         4091   54  Female        Married            Doctorate   \n",
            "19371        88023   28    Male       Divorced      Master's Degree   \n",
            "\n",
            "            Geographic Information    Occupation  Income Level  \\\n",
            "0                          Mizoram  Entrepreneur         70541   \n",
            "1                              Goa       Manager         54168   \n",
            "2                        Rajasthan  Entrepreneur         73899   \n",
            "3                           Sikkim  Entrepreneur         63381   \n",
            "4                      West Bengal       Manager         38794   \n",
            "...                            ...           ...           ...   \n",
            "19367                Daman and Diu         Nurse        107645   \n",
            "19368                Uttar Pradesh        Lawyer         75794   \n",
            "19369                      Manipur      Engineer         94349   \n",
            "19370       Dadra and Nagar Haveli        Lawyer         71541   \n",
            "19371  Andaman and Nicobar Islands       Teacher         51057   \n",
            "\n",
            "      Behavioral Data Purchase History Interactions with Customer Service  \\\n",
            "0             policy5       04-10-2018                              Phone   \n",
            "1             policy5       11-06-2018                               Chat   \n",
            "2             policy5       06-05-2021                              Email   \n",
            "3             policy5       09-02-2018                               Chat   \n",
            "4             policy1       09-10-2018                               Chat   \n",
            "...               ...              ...                                ...   \n",
            "19367         policy3       10-10-2019                               Chat   \n",
            "19368         policy1        2/18/2021                              Email   \n",
            "19369         policy3       11/20/2023                              Email   \n",
            "19370         policy5       05-04-2021                              Email   \n",
            "19371         policy5       12-09-2022                          In-Person   \n",
            "\n",
            "      Insurance Products Owned  Coverage Amount  Premium Amount Policy Type  \\\n",
            "0                      policy2           366603            2749       Group   \n",
            "1                      policy1           780236            1966       Group   \n",
            "2                      policy3           773926            4413       Group   \n",
            "3                      policy2           787815            4342      Family   \n",
            "4                      policy4           366506            1276      Family   \n",
            "...                        ...              ...             ...         ...   \n",
            "19367                  policy5            93007            4377       Group   \n",
            "19368                  policy3           488349            1758    Business   \n",
            "19369                  policy4           511571            4464       Group   \n",
            "19370                  policy5           201313            4007       Group   \n",
            "19371                  policy4           822289            3458      Family   \n",
            "\n",
            "      Customer Preferences Preferred Communication Channel  \\\n",
            "0                    Email               In-Person Meeting   \n",
            "1                     Mail               In-Person Meeting   \n",
            "2                    Email                            Mail   \n",
            "3                     Text               In-Person Meeting   \n",
            "4                    Email                            Text   \n",
            "...                    ...                             ...   \n",
            "19367                 Mail                           Phone   \n",
            "19368    In-Person Meeting                            Text   \n",
            "19369                 Mail                            Mail   \n",
            "19370                Email               In-Person Meeting   \n",
            "19371                Phone                            Text   \n",
            "\n",
            "      Preferred Contact Time Preferred Language Segmentation Group  \n",
            "0                  Afternoon            English           Segment5  \n",
            "1                    Morning             French           Segment5  \n",
            "2                    Evening             German           Segment3  \n",
            "3                    Anytime             French           Segment3  \n",
            "4                   Weekends            English           Segment2  \n",
            "...                      ...                ...                ...  \n",
            "19367              Afternoon             German           Segment3  \n",
            "19368                Morning             French           Segment4  \n",
            "19369                Anytime            English           Segment1  \n",
            "19370               Weekends             German           Segment3  \n",
            "19371                Evening            English              Segme  \n",
            "\n",
            "[19372 rows x 20 columns]\n"
          ]
        }
      ]
    },
    {
      "cell_type": "code",
      "source": [
        "#printing top 5 value of dataset\n",
        "print(dataset.head())"
      ],
      "metadata": {
        "colab": {
          "base_uri": "https://localhost:8080/"
        },
        "id": "kZk_rINzrJ24",
        "outputId": "7ee45ca6-4db1-42d1-e2e1-1e54dc6f74a8"
      },
      "execution_count": null,
      "outputs": [
        {
          "output_type": "stream",
          "name": "stdout",
          "text": [
            "   Customer ID  Age  Gender Marital Status    Education Level  \\\n",
            "0        84966   23  Female        Married   Associate Degree   \n",
            "1        95568   26    Male        Widowed          Doctorate   \n",
            "2        10544   29  Female         Single   Associate Degree   \n",
            "3        77033   20    Male       Divorced  Bachelor's Degree   \n",
            "4        88160   25  Female      Separated  Bachelor's Degree   \n",
            "\n",
            "  Geographic Information    Occupation  Income Level Behavioral Data  \\\n",
            "0                Mizoram  Entrepreneur         70541         policy5   \n",
            "1                    Goa       Manager         54168         policy5   \n",
            "2              Rajasthan  Entrepreneur         73899         policy5   \n",
            "3                 Sikkim  Entrepreneur         63381         policy5   \n",
            "4            West Bengal       Manager         38794         policy1   \n",
            "\n",
            "  Purchase History Interactions with Customer Service  \\\n",
            "0       04-10-2018                              Phone   \n",
            "1       11-06-2018                               Chat   \n",
            "2       06-05-2021                              Email   \n",
            "3       09-02-2018                               Chat   \n",
            "4       09-10-2018                               Chat   \n",
            "\n",
            "  Insurance Products Owned  Coverage Amount  Premium Amount Policy Type  \\\n",
            "0                  policy2           366603            2749       Group   \n",
            "1                  policy1           780236            1966       Group   \n",
            "2                  policy3           773926            4413       Group   \n",
            "3                  policy2           787815            4342      Family   \n",
            "4                  policy4           366506            1276      Family   \n",
            "\n",
            "  Customer Preferences Preferred Communication Channel Preferred Contact Time  \\\n",
            "0                Email               In-Person Meeting              Afternoon   \n",
            "1                 Mail               In-Person Meeting                Morning   \n",
            "2                Email                            Mail                Evening   \n",
            "3                 Text               In-Person Meeting                Anytime   \n",
            "4                Email                            Text               Weekends   \n",
            "\n",
            "  Preferred Language Segmentation Group  \n",
            "0            English           Segment5  \n",
            "1             French           Segment5  \n",
            "2             German           Segment3  \n",
            "3             French           Segment3  \n",
            "4            English           Segment2  \n"
          ]
        }
      ]
    },
    {
      "cell_type": "code",
      "source": [
        "#printing bottom 5 value\n",
        "print(dataset.tail())"
      ],
      "metadata": {
        "colab": {
          "base_uri": "https://localhost:8080/"
        },
        "id": "41zrSv4-r4S5",
        "outputId": "82339c42-c923-4fac-d737-c3a2ded9273f"
      },
      "execution_count": null,
      "outputs": [
        {
          "output_type": "stream",
          "name": "stdout",
          "text": [
            "       Customer ID  Age  Gender Marital Status      Education Level  \\\n",
            "19367        84792   23    Male        Widowed    Bachelor's Degree   \n",
            "19368        70178   21    Male       Divorced     Associate Degree   \n",
            "19369        12504   34    Male      Separated  High School Diploma   \n",
            "19370         4091   54  Female        Married            Doctorate   \n",
            "19371        88023   28    Male       Divorced      Master's Degree   \n",
            "\n",
            "            Geographic Information Occupation  Income Level Behavioral Data  \\\n",
            "19367                Daman and Diu      Nurse        107645         policy3   \n",
            "19368                Uttar Pradesh     Lawyer         75794         policy1   \n",
            "19369                      Manipur   Engineer         94349         policy3   \n",
            "19370       Dadra and Nagar Haveli     Lawyer         71541         policy5   \n",
            "19371  Andaman and Nicobar Islands    Teacher         51057         policy5   \n",
            "\n",
            "      Purchase History Interactions with Customer Service  \\\n",
            "19367       10-10-2019                               Chat   \n",
            "19368        2/18/2021                              Email   \n",
            "19369       11/20/2023                              Email   \n",
            "19370       05-04-2021                              Email   \n",
            "19371       12-09-2022                          In-Person   \n",
            "\n",
            "      Insurance Products Owned  Coverage Amount  Premium Amount Policy Type  \\\n",
            "19367                  policy5            93007            4377       Group   \n",
            "19368                  policy3           488349            1758    Business   \n",
            "19369                  policy4           511571            4464       Group   \n",
            "19370                  policy5           201313            4007       Group   \n",
            "19371                  policy4           822289            3458      Family   \n",
            "\n",
            "      Customer Preferences Preferred Communication Channel  \\\n",
            "19367                 Mail                           Phone   \n",
            "19368    In-Person Meeting                            Text   \n",
            "19369                 Mail                            Mail   \n",
            "19370                Email               In-Person Meeting   \n",
            "19371                Phone                            Text   \n",
            "\n",
            "      Preferred Contact Time Preferred Language Segmentation Group  \n",
            "19367              Afternoon             German           Segment3  \n",
            "19368                Morning             French           Segment4  \n",
            "19369                Anytime            English           Segment1  \n",
            "19370               Weekends             German           Segment3  \n",
            "19371                Evening            English              Segme  \n"
          ]
        }
      ]
    },
    {
      "cell_type": "code",
      "source": [
        "#split the dataset into 70 (training) and 30(test).\n",
        "train_data, test_data = train_test_split(dataset, test_size=0.3, random_state=42)"
      ],
      "metadata": {
        "id": "IAQGufH7sQUh"
      },
      "execution_count": null,
      "outputs": []
    },
    {
      "cell_type": "code",
      "source": [
        "print(dataset.index)"
      ],
      "metadata": {
        "colab": {
          "base_uri": "https://localhost:8080/"
        },
        "id": "WYfmSXYmtM75",
        "outputId": "a5b86b55-6d0d-4af8-e321-c07c7a8a6cdc"
      },
      "execution_count": null,
      "outputs": [
        {
          "output_type": "stream",
          "name": "stdout",
          "text": [
            "RangeIndex(start=0, stop=19372, step=1)\n"
          ]
        }
      ]
    },
    {
      "cell_type": "code",
      "source": [
        "dataset.dtypes #Checking Data Types"
      ],
      "metadata": {
        "colab": {
          "base_uri": "https://localhost:8080/"
        },
        "id": "w_Q218sot5Ko",
        "outputId": "cbfa9b45-45d3-484b-d8e6-7c2129c7f01d"
      },
      "execution_count": null,
      "outputs": [
        {
          "output_type": "execute_result",
          "data": {
            "text/plain": [
              "Customer ID                            int64\n",
              "Age                                    int64\n",
              "Gender                                object\n",
              "Marital Status                        object\n",
              "Education Level                       object\n",
              "Geographic Information                object\n",
              "Occupation                            object\n",
              "Income Level                           int64\n",
              "Behavioral Data                       object\n",
              "Purchase History                      object\n",
              "Interactions with Customer Service    object\n",
              "Insurance Products Owned              object\n",
              "Coverage Amount                        int64\n",
              "Premium Amount                         int64\n",
              "Policy Type                           object\n",
              "Customer Preferences                  object\n",
              "Preferred Communication Channel       object\n",
              "Preferred Contact Time                object\n",
              "Preferred Language                    object\n",
              "Segmentation Group                    object\n",
              "dtype: object"
            ]
          },
          "metadata": {},
          "execution_count": 8
        }
      ]
    },
    {
      "cell_type": "code",
      "source": [
        "dataset.isnull().sum()"
      ],
      "metadata": {
        "colab": {
          "base_uri": "https://localhost:8080/"
        },
        "id": "l4Kzl4_IwRFP",
        "outputId": "a2de34e6-cddc-4b9b-d7fd-a2cf71aacbf2"
      },
      "execution_count": null,
      "outputs": [
        {
          "output_type": "execute_result",
          "data": {
            "text/plain": [
              "Customer ID                           0\n",
              "Age                                   0\n",
              "Gender                                0\n",
              "Marital Status                        0\n",
              "Education Level                       0\n",
              "Geographic Information                0\n",
              "Occupation                            0\n",
              "Income Level                          0\n",
              "Behavioral Data                       0\n",
              "Purchase History                      0\n",
              "Interactions with Customer Service    0\n",
              "Insurance Products Owned              0\n",
              "Coverage Amount                       0\n",
              "Premium Amount                        0\n",
              "Policy Type                           0\n",
              "Customer Preferences                  0\n",
              "Preferred Communication Channel       0\n",
              "Preferred Contact Time                0\n",
              "Preferred Language                    0\n",
              "Segmentation Group                    0\n",
              "dtype: int64"
            ]
          },
          "metadata": {},
          "execution_count": 9
        }
      ]
    },
    {
      "cell_type": "code",
      "source": [
        "dataset.columns"
      ],
      "metadata": {
        "colab": {
          "base_uri": "https://localhost:8080/"
        },
        "id": "qdDbKHFFwUrX",
        "outputId": "f73045e1-7d9c-470b-e5b4-ba925a08173b"
      },
      "execution_count": null,
      "outputs": [
        {
          "output_type": "execute_result",
          "data": {
            "text/plain": [
              "Index(['Customer ID', 'Age', 'Gender', 'Marital Status', 'Education Level',\n",
              "       'Geographic Information', 'Occupation', 'Income Level',\n",
              "       'Behavioral Data', 'Purchase History',\n",
              "       'Interactions with Customer Service', 'Insurance Products Owned',\n",
              "       'Coverage Amount', 'Premium Amount', 'Policy Type',\n",
              "       'Customer Preferences', 'Preferred Communication Channel',\n",
              "       'Preferred Contact Time', 'Preferred Language', 'Segmentation Group'],\n",
              "      dtype='object')"
            ]
          },
          "metadata": {},
          "execution_count": 10
        }
      ]
    },
    {
      "cell_type": "code",
      "source": [
        "data = dataset[['Marital Status', 'Education Level', 'Geographic Information', 'Occupation', 'Segmentation Group']]"
      ],
      "metadata": {
        "id": "bdbSBQALwkBQ"
      },
      "execution_count": null,
      "outputs": []
    },
    {
      "cell_type": "markdown",
      "source": [
        "#Calculate correlation matrix:"
      ],
      "metadata": {
        "id": "RJKj9I2Mw0gg"
      }
    },
    {
      "cell_type": "code",
      "source": [
        "correlation_matrix = data.corr()\n",
        "print(correlation_matrix)"
      ],
      "metadata": {
        "colab": {
          "base_uri": "https://localhost:8080/"
        },
        "id": "OI-xr-yKwzWw",
        "outputId": "7eaaefe2-b731-44ae-89cb-583e9b83b0fe"
      },
      "execution_count": null,
      "outputs": [
        {
          "output_type": "stream",
          "name": "stdout",
          "text": [
            "Empty DataFrame\n",
            "Columns: []\n",
            "Index: []\n"
          ]
        },
        {
          "output_type": "stream",
          "name": "stderr",
          "text": [
            "<ipython-input-12-e02734b85495>:1: FutureWarning: The default value of numeric_only in DataFrame.corr is deprecated. In a future version, it will default to False. Select only valid columns or specify the value of numeric_only to silence this warning.\n",
            "  correlation_matrix = data.corr()\n"
          ]
        }
      ]
    },
    {
      "cell_type": "markdown",
      "source": [
        "#Test significance between segmentation group and geographic location:"
      ],
      "metadata": {
        "id": "B1VQRO4Cw2bv"
      }
    },
    {
      "cell_type": "code",
      "source": [
        "# Create crosstab of segmentation group and geographic location\n",
        "crosstab = pd.crosstab(data['Segmentation Group'], data['Geographic Information'])\n",
        "\n",
        "# Perform chi-square test\n",
        "chi2, p, _, _ = stats.chi2_contingency(crosstab)\n",
        "\n",
        "# Interpret the results\n",
        "if p < 0.05:\n",
        "    print(\"There is a significant association between segmentation group and geographic location.\")\n",
        "else:\n",
        "    print(\"There is no significant association between segmentation group and geographic location.\")"
      ],
      "metadata": {
        "colab": {
          "base_uri": "https://localhost:8080/"
        },
        "id": "TCMHEKyZw5gw",
        "outputId": "5dc33f51-0775-4736-9616-dbac84ee45eb"
      },
      "execution_count": null,
      "outputs": [
        {
          "output_type": "stream",
          "name": "stdout",
          "text": [
            "There is a significant association between segmentation group and geographic location.\n"
          ]
        }
      ]
    },
    {
      "cell_type": "markdown",
      "source": [
        "# Identify the independent variables (features) and the dependent variable (target) and fit a logistic regression model to the training data. Check the performance of the model on the training data."
      ],
      "metadata": {
        "id": "jlMGOAsLxjjQ"
      }
    },
    {
      "cell_type": "code",
      "source": [
        "# Identify independent and dependent variables\n",
        "X_train = train_data[['Marital Status', 'Education Level', 'Geographic Information', 'Occupation']]\n",
        "y_train = train_data['Segmentation Group']\n",
        "\n",
        "# Encode categorical variables\n",
        "encoder = OneHotEncoder()\n",
        "X_train_encoded = encoder.fit_transform(X_train)\n",
        "\n",
        "# Fit a logistic regression model\n",
        "model = LogisticRegression()\n",
        "model.fit(X_train_encoded, y_train)\n",
        "\n",
        "# Evaluate the model on the training data\n",
        "y_train_pred = model.predict(X_train_encoded)\n",
        "accuracy = accuracy_score(y_train, y_train_pred)\n",
        "print(\"Accuracy on training data:\", accuracy)\n"
      ],
      "metadata": {
        "colab": {
          "base_uri": "https://localhost:8080/"
        },
        "id": "EQEspWzrveoQ",
        "outputId": "c9b4ba2f-6608-4ec8-bd7a-96b1fd1ba26e"
      },
      "execution_count": null,
      "outputs": [
        {
          "output_type": "stream",
          "name": "stdout",
          "text": [
            "Accuracy on training data: 0.271976401179941\n"
          ]
        },
        {
          "output_type": "stream",
          "name": "stderr",
          "text": [
            "/usr/local/lib/python3.10/dist-packages/sklearn/linear_model/_logistic.py:458: ConvergenceWarning: lbfgs failed to converge (status=1):\n",
            "STOP: TOTAL NO. of ITERATIONS REACHED LIMIT.\n",
            "\n",
            "Increase the number of iterations (max_iter) or scale the data as shown in:\n",
            "    https://scikit-learn.org/stable/modules/preprocessing.html\n",
            "Please also refer to the documentation for alternative solver options:\n",
            "    https://scikit-learn.org/stable/modules/linear_model.html#logistic-regression\n",
            "  n_iter_i = _check_optimize_result(\n"
          ]
        }
      ]
    },
    {
      "cell_type": "markdown",
      "source": [
        "#Classify the data based on the segmentation group using a Naïve Bayes Classifier. Use appropriate metrics to evaluate the model and compare the results 80% training data and 20% test data."
      ],
      "metadata": {
        "id": "8SX3SZugv52_"
      }
    },
    {
      "cell_type": "code",
      "source": [
        "# Split the data into training and test sets\n",
        "train_data, test_data = train_test_split(dataset, test_size=0.2, random_state=42)\n",
        "\n",
        "# Select the independent variables (features) and the dependent variable (target)\n",
        "X_train = train_data[['Marital Status', 'Education Level', 'Geographic Information', 'Occupation']]\n",
        "y_train = train_data['Segmentation Group']\n",
        "\n",
        "# Encode the categorical variables in the training data\n",
        "encoder = OneHotEncoder()\n",
        "X_train_encoded = encoder.fit_transform(X_train)\n",
        "\n",
        "# Fit the Naïve Bayes Classifier\n",
        "nb = GaussianNB()\n",
        "nb.fit(X_train_encoded.toarray(), y_train)\n",
        "\n",
        "# Predict the target variable for the test data\n",
        "X_test = test_data[['Marital Status', 'Education Level', 'Geographic Information', 'Occupation']]\n",
        "y_test = test_data['Segmentation Group']\n",
        "X_test_encoded = encoder.transform(X_test)\n",
        "y_test_pred = nb.predict(X_test_encoded.toarray())\n",
        "\n",
        "# Evaluate the performance of the Naïve Bayes Classifier\n",
        "accuracy = accuracy_score(y_test, y_test_pred)\n",
        "classification_report = classification_report(y_test, y_test_pred)\n",
        "\n",
        "print(f\"Accuracy on test data: {accuracy}\")\n",
        "print(f\"Classification Report:\\n{classification_report}\")\n"
      ],
      "metadata": {
        "colab": {
          "base_uri": "https://localhost:8080/"
        },
        "id": "7uhRnzx0qTe5",
        "outputId": "cbb97dd2-6164-426c-879e-e06b42ea1189"
      },
      "execution_count": null,
      "outputs": [
        {
          "output_type": "stream",
          "name": "stdout",
          "text": [
            "Accuracy on test data: 0.2178064516129032\n",
            "Classification Report:\n",
            "              precision    recall  f1-score   support\n",
            "\n",
            "    Segment1       0.22      0.15      0.18       659\n",
            "    Segment2       0.24      0.29      0.26       802\n",
            "    Segment3       0.18      0.31      0.23       676\n",
            "    Segment4       0.19      0.21      0.20       748\n",
            "    Segment5       0.29      0.15      0.20       990\n",
            "\n",
            "    accuracy                           0.22      3875\n",
            "   macro avg       0.22      0.22      0.21      3875\n",
            "weighted avg       0.23      0.22      0.21      3875\n",
            "\n"
          ]
        }
      ]
    }
  ]
}