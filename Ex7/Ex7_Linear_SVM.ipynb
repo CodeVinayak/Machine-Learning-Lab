{
  "nbformat": 4,
  "nbformat_minor": 0,
  "metadata": {
    "colab": {
      "provenance": []
    },
    "kernelspec": {
      "name": "python3",
      "display_name": "Python 3"
    },
    "language_info": {
      "name": "python"
    }
  },
  "cells": [
    {
      "cell_type": "markdown",
      "source": [
        "**Machine Learning Lab (PMCA507P)**\n",
        "\n",
        "> **Reg No:** 23MCA1030\n",
        "\n",
        ">**Name :**  Vinayak Kumar Singh"
      ],
      "metadata": {
        "id": "gh38QhWFnyv-"
      }
    },
    {
      "cell_type": "markdown",
      "source": [
        "**Exercise 7a :  Linear SVM**"
      ],
      "metadata": {
        "id": "emZn-Pv0n12c"
      }
    },
    {
      "cell_type": "markdown",
      "source": [
        "**Collab url :** https://colab.research.google.com/drive/1Nn6hweXLGDqth0tApZ6LuB0FnMCGPwWf?usp=sharing\n",
        "\n",
        "**Dataset url :** https://www.kaggle.com/datasets/uciml/pima-indians-diabetes-database/data\n",
        "\n",
        "Pima Indians Diabetes Database"
      ],
      "metadata": {
        "id": "ZgOuzm8aoB3o"
      }
    },
    {
      "cell_type": "code",
      "source": [
        "import pandas as pd\n",
        "from sklearn.model_selection import train_test_split\n",
        "from sklearn.preprocessing import StandardScaler\n",
        "from sklearn.svm import LinearSVC\n",
        "from sklearn.metrics import accuracy_score, precision_score, recall_score, f1_score"
      ],
      "metadata": {
        "id": "SkGLDKcsSCMq"
      },
      "execution_count": 1,
      "outputs": []
    },
    {
      "cell_type": "code",
      "source": [
        "#Load the dataset\n",
        "data = pd.read_csv('/content/diabetes.csv')"
      ],
      "metadata": {
        "id": "5ZkErbvWSEau"
      },
      "execution_count": 2,
      "outputs": []
    },
    {
      "cell_type": "code",
      "source": [
        "# Print the first few rows of the dataset\n",
        "print(\"First few rows of the dataset:\")\n",
        "print(data.head())"
      ],
      "metadata": {
        "colab": {
          "base_uri": "https://localhost:8080/"
        },
        "id": "9c2B6gHnSH-M",
        "outputId": "480f57a3-a8ae-472b-bd3b-269504ebdc60"
      },
      "execution_count": 3,
      "outputs": [
        {
          "output_type": "stream",
          "name": "stdout",
          "text": [
            "First few rows of the dataset:\n",
            "   Pregnancies  Glucose  BloodPressure  SkinThickness  Insulin   BMI  \\\n",
            "0            6      148             72             35        0  33.6   \n",
            "1            1       85             66             29        0  26.6   \n",
            "2            8      183             64              0        0  23.3   \n",
            "3            1       89             66             23       94  28.1   \n",
            "4            0      137             40             35      168  43.1   \n",
            "\n",
            "   DiabetesPedigreeFunction  Age  Outcome  \n",
            "0                     0.627   50        1  \n",
            "1                     0.351   31        0  \n",
            "2                     0.672   32        1  \n",
            "3                     0.167   21        0  \n",
            "4                     2.288   33        1  \n"
          ]
        }
      ]
    },
    {
      "cell_type": "code",
      "source": [
        "# Separate features and target variable\n",
        "features = data.drop('Outcome', axis=1)\n",
        "target = data['Outcome']"
      ],
      "metadata": {
        "id": "9SErLaxRSLEu"
      },
      "execution_count": 4,
      "outputs": []
    },
    {
      "cell_type": "code",
      "source": [
        "# Print the column names of features and target variable\n",
        "print(\"\\nFeature columns:\")\n",
        "for column in features.columns:\n",
        "    print(column)\n",
        "\n",
        "print(\"\\nTarget variable:\")\n",
        "print(target.name)"
      ],
      "metadata": {
        "colab": {
          "base_uri": "https://localhost:8080/"
        },
        "id": "7aVBCXEiSNz0",
        "outputId": "0853216f-976c-4456-e4a3-f587a3edf117"
      },
      "execution_count": 5,
      "outputs": [
        {
          "output_type": "stream",
          "name": "stdout",
          "text": [
            "\n",
            "Feature columns:\n",
            "Pregnancies\n",
            "Glucose\n",
            "BloodPressure\n",
            "SkinThickness\n",
            "Insulin\n",
            "BMI\n",
            "DiabetesPedigreeFunction\n",
            "Age\n",
            "\n",
            "Target variable:\n",
            "Outcome\n"
          ]
        }
      ]
    },
    {
      "cell_type": "code",
      "source": [
        "# Split the data into training and testing sets\n",
        "X_train, X_test, y_train, y_test = train_test_split(features, target, test_size=0.2, random_state=42)"
      ],
      "metadata": {
        "id": "tIakqKN5SVIJ"
      },
      "execution_count": 6,
      "outputs": []
    },
    {
      "cell_type": "code",
      "source": [
        "# Print the shapes of training and testing sets\n",
        "print(\"\\nShapes of training and testing sets:\")\n",
        "print(\"X_train shape:\", X_train.shape)\n",
        "print(\"X_test shape:\", X_test.shape)\n",
        "print(\"y_train shape:\", y_train.shape)\n",
        "print(\"y_test shape:\", y_test.shape)"
      ],
      "metadata": {
        "colab": {
          "base_uri": "https://localhost:8080/"
        },
        "id": "b_77yNxXSWTo",
        "outputId": "691a776c-fdc6-4a7a-aa58-dceab968818b"
      },
      "execution_count": 7,
      "outputs": [
        {
          "output_type": "stream",
          "name": "stdout",
          "text": [
            "\n",
            "Shapes of training and testing sets:\n",
            "X_train shape: (614, 8)\n",
            "X_test shape: (154, 8)\n",
            "y_train shape: (614,)\n",
            "y_test shape: (154,)\n"
          ]
        }
      ]
    },
    {
      "cell_type": "code",
      "source": [
        "# Feature scaling\n",
        "scaler = StandardScaler()\n",
        "X_train_scaled = scaler.fit_transform(X_train)\n",
        "X_test_scaled = scaler.transform(X_test)\n",
        "\n",
        "# Initialize the linear SVM classifier\n",
        "linear_svm = LinearSVC(penalty='l2', dual=True, C=1.0)\n",
        "\n",
        "# Train the model\n",
        "linear_svm.fit(X_train_scaled, y_train)\n",
        "\n",
        "# Make predictions on the test set\n",
        "y_pred = linear_svm.predict(X_test_scaled)"
      ],
      "metadata": {
        "colab": {
          "base_uri": "https://localhost:8080/"
        },
        "id": "6RPuOnTmSZ3u",
        "outputId": "740afc01-4959-490f-fc92-468fbc9c6c69"
      },
      "execution_count": 8,
      "outputs": [
        {
          "output_type": "stream",
          "name": "stderr",
          "text": [
            "/usr/local/lib/python3.10/dist-packages/sklearn/svm/_base.py:1244: ConvergenceWarning: Liblinear failed to converge, increase the number of iterations.\n",
            "  warnings.warn(\n"
          ]
        }
      ]
    },
    {
      "cell_type": "code",
      "source": [
        "# Evaluate the model\n",
        "metrics = ['Accuracy', 'Precision', 'Recall', 'F1-score']\n",
        "scores = [accuracy_score(y_test, y_pred),\n",
        "           precision_score(y_test, y_pred),\n",
        "           recall_score(y_test, y_pred),\n",
        "           f1_score(y_test, y_pred)]\n",
        "\n",
        "print(\"\\nModel evaluation metrics:\")\n",
        "for metric, score in zip(metrics, scores):\n",
        "    print(f\"{metric}: {score:.2f}\")"
      ],
      "metadata": {
        "colab": {
          "base_uri": "https://localhost:8080/"
        },
        "id": "cqlFN87_Rv_n",
        "outputId": "704ee3a6-856d-4e8b-af10-870125d687f2"
      },
      "execution_count": 9,
      "outputs": [
        {
          "output_type": "stream",
          "name": "stdout",
          "text": [
            "\n",
            "Model evaluation metrics:\n",
            "Accuracy: 0.75\n",
            "Precision: 0.65\n",
            "Recall: 0.67\n",
            "F1-score: 0.66\n"
          ]
        }
      ]
    },
    {
      "cell_type": "code",
      "source": [
        "# Interpret the model\n",
        "print(\"\\nFeature weights:\")\n",
        "for idx, weight in enumerate(linear_svm.coef_[0]):\n",
        "    print(f\"Feature {features.columns[idx]}: {weight:.2f}\")\n",
        "\n",
        "print(f\"\\nIntercept: {linear_svm.intercept_[0]:.2f}\")"
      ],
      "metadata": {
        "colab": {
          "base_uri": "https://localhost:8080/"
        },
        "id": "qQmhTWVRTFK8",
        "outputId": "4304419f-6706-44cb-bce6-4ba81b3e90c9"
      },
      "execution_count": 10,
      "outputs": [
        {
          "output_type": "stream",
          "name": "stdout",
          "text": [
            "\n",
            "Feature weights:\n",
            "Feature Pregnancies: 0.08\n",
            "Feature Glucose: 0.40\n",
            "Feature BloodPressure: -0.09\n",
            "Feature SkinThickness: 0.02\n",
            "Feature Insulin: -0.07\n",
            "Feature BMI: 0.28\n",
            "Feature DiabetesPedigreeFunction: 0.08\n",
            "Feature Age: 0.16\n",
            "\n",
            "Intercept: -0.33\n"
          ]
        }
      ]
    }
  ]
}