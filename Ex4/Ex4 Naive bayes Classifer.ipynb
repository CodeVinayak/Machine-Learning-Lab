{
  "nbformat": 4,
  "nbformat_minor": 0,
  "metadata": {
    "colab": {
      "provenance": []
    },
    "kernelspec": {
      "name": "python3",
      "display_name": "Python 3"
    },
    "language_info": {
      "name": "python"
    }
  },
  "cells": [
    {
      "cell_type": "markdown",
      "source": [
        "Reg No: 23MCA1030\n",
        "Vinayak Kumar Singh"
      ],
      "metadata": {
        "id": "KFx-NQ_9tLyq"
      }
    },
    {
      "cell_type": "code",
      "execution_count": null,
      "metadata": {
        "id": "8bT_cXNsYAvD"
      },
      "outputs": [],
      "source": [
        "import pandas as pd"
      ]
    },
    {
      "cell_type": "code",
      "source": [
        "data = pd.read_csv(\"/content/Dataset.csv\")\n",
        "print(data)"
      ],
      "metadata": {
        "colab": {
          "base_uri": "https://localhost:8080/"
        },
        "id": "2FmbPfOVhgUm",
        "outputId": "41bffedc-7f40-4544-dedf-3730aa26200e"
      },
      "execution_count": null,
      "outputs": [
        {
          "output_type": "stream",
          "name": "stdout",
          "text": [
            "        age  income student credit_rating Class: buys_computer\n",
            "0      <=30    high      no          fair                   no\n",
            "1      <=30    high      no     excellent                   no\n",
            "2   31...40    high      no          fair                  yes\n",
            "3       >40  medium      no          fair                  yes\n",
            "4       >40     low     yes          fair                  yes\n",
            "5       >40     low     yes     excellent                   no\n",
            "6   31...40     low     yes     excellent                  yes\n",
            "7      <=30  medium      no          fair                   no\n",
            "8      <=30     low     yes          fair                  yes\n",
            "9       >40  medium     yes          fair                  yes\n",
            "10     <=30  medium     yes     excellent                  yes\n",
            "11  31...40  medium      no     excellent                  yes\n",
            "12  31...40    high     yes          fair                  yes\n",
            "13      >40  medium      no     excellent                   no\n"
          ]
        }
      ]
    },
    {
      "cell_type": "code",
      "source": [
        "y = data['Class: buys_computer']\n",
        "x = data.drop('Class: buys_computer', axis=1)"
      ],
      "metadata": {
        "id": "Eu9hg2oBkM-f"
      },
      "execution_count": null,
      "outputs": []
    },
    {
      "cell_type": "code",
      "source": [
        "from sklearn.preprocessing import LabelEncoder\n",
        "le=LabelEncoder()\n",
        "x.age=le.fit_transform(data['age'])\n",
        "x.income=le.fit_transform(data['income'])\n",
        "x.student=le.fit_transform(data['student'])\n",
        "x.credit_rating=le.fit_transform(data['credit_rating'])\n",
        "print(x)"
      ],
      "metadata": {
        "colab": {
          "base_uri": "https://localhost:8080/"
        },
        "id": "deae1340kt2w",
        "outputId": "33cc295f-89ce-433f-cf7c-19da6a31b438"
      },
      "execution_count": null,
      "outputs": [
        {
          "output_type": "stream",
          "name": "stdout",
          "text": [
            "    age  income  student  credit_rating\n",
            "0     1       0        0              1\n",
            "1     1       0        0              0\n",
            "2     0       0        0              1\n",
            "3     2       2        0              1\n",
            "4     2       1        1              1\n",
            "5     2       1        1              0\n",
            "6     0       1        1              0\n",
            "7     1       2        0              1\n",
            "8     1       1        1              1\n",
            "9     2       2        1              1\n",
            "10    1       2        1              0\n",
            "11    0       2        0              0\n",
            "12    0       0        1              1\n",
            "13    2       2        0              0\n"
          ]
        }
      ]
    },
    {
      "cell_type": "code",
      "source": [
        "from sklearn.naive_bayes import GaussianNB\n",
        "model=GaussianNB()\n",
        "model.fit(x,y)\n",
        "predicted=model.predict([[1,2,1,1]])\n",
        "print(\"predicted Value\",predicted)"
      ],
      "metadata": {
        "id": "6CokIoBCmBQQ",
        "colab": {
          "base_uri": "https://localhost:8080/"
        },
        "outputId": "160c2daf-e5ea-4693-bc73-8e5dc543267e"
      },
      "execution_count": null,
      "outputs": [
        {
          "output_type": "stream",
          "name": "stdout",
          "text": [
            "predicted Value ['yes']\n"
          ]
        },
        {
          "output_type": "stream",
          "name": "stderr",
          "text": [
            "/usr/local/lib/python3.10/dist-packages/sklearn/base.py:439: UserWarning: X does not have valid feature names, but GaussianNB was fitted with feature names\n",
            "  warnings.warn(\n"
          ]
        }
      ]
    },
    {
      "cell_type": "code",
      "source": [
        "x=data.drop('Class: buys_computer',axis=1)\n",
        "from sklearn.preprocessing import OneHotEncoder\n",
        "le=OneHotEncoder()\n",
        "y = pd.get_dummies(data, columns = ['age','income','student','credit_rating'])\n",
        "print(y)"
      ],
      "metadata": {
        "colab": {
          "base_uri": "https://localhost:8080/"
        },
        "id": "rzM7Rw41kRWf",
        "outputId": "8179b114-87a4-4eae-e7b1-6ae7df2ed701"
      },
      "execution_count": null,
      "outputs": [
        {
          "output_type": "stream",
          "name": "stdout",
          "text": [
            "   Class: buys_computer  age_31...40  age_<=30  age_>40  income_high  \\\n",
            "0                    no            0         1        0            1   \n",
            "1                    no            0         1        0            1   \n",
            "2                   yes            1         0        0            1   \n",
            "3                   yes            0         0        1            0   \n",
            "4                   yes            0         0        1            0   \n",
            "5                    no            0         0        1            0   \n",
            "6                   yes            1         0        0            0   \n",
            "7                    no            0         1        0            0   \n",
            "8                   yes            0         1        0            0   \n",
            "9                   yes            0         0        1            0   \n",
            "10                  yes            0         1        0            0   \n",
            "11                  yes            1         0        0            0   \n",
            "12                  yes            1         0        0            1   \n",
            "13                   no            0         0        1            0   \n",
            "\n",
            "    income_low  income_medium  student_no  student_yes  \\\n",
            "0            0              0           1            0   \n",
            "1            0              0           1            0   \n",
            "2            0              0           1            0   \n",
            "3            0              1           1            0   \n",
            "4            1              0           0            1   \n",
            "5            1              0           0            1   \n",
            "6            1              0           0            1   \n",
            "7            0              1           1            0   \n",
            "8            1              0           0            1   \n",
            "9            0              1           0            1   \n",
            "10           0              1           0            1   \n",
            "11           0              1           1            0   \n",
            "12           0              0           0            1   \n",
            "13           0              1           1            0   \n",
            "\n",
            "    credit_rating_excellent  credit_rating_fair  \n",
            "0                         0                   1  \n",
            "1                         1                   0  \n",
            "2                         0                   1  \n",
            "3                         0                   1  \n",
            "4                         0                   1  \n",
            "5                         1                   0  \n",
            "6                         1                   0  \n",
            "7                         0                   1  \n",
            "8                         0                   1  \n",
            "9                         0                   1  \n",
            "10                        1                   0  \n",
            "11                        1                   0  \n",
            "12                        0                   1  \n",
            "13                        1                   0  \n"
          ]
        }
      ]
    },
    {
      "cell_type": "code",
      "source": [
        "x=data.drop('Class: buys_computer',axis=1)\n",
        "from sklearn.preprocessing import OneHotEncoder\n",
        "le=OneHotEncoder()\n",
        "enc_data = pd.DataFrame(le.fit_transform(data[['age','income','student','credit_rating']]))"
      ],
      "metadata": {
        "id": "JzzIYaS5lHkC"
      },
      "execution_count": null,
      "outputs": []
    },
    {
      "cell_type": "code",
      "source": [
        "New_df = data.join(enc_data)\n",
        "print(enc_data)\n",
        "print(New_df)"
      ],
      "metadata": {
        "colab": {
          "base_uri": "https://localhost:8080/"
        },
        "id": "sPB6djccl81J",
        "outputId": "9f0fc33b-7896-48d5-b275-0a2ba9e41612"
      },
      "execution_count": null,
      "outputs": [
        {
          "output_type": "stream",
          "name": "stdout",
          "text": [
            "                                                    0\n",
            "0     (0, 1)\\t1.0\\n  (0, 3)\\t1.0\\n  (0, 6)\\t1.0\\n ...\n",
            "1     (0, 1)\\t1.0\\n  (0, 3)\\t1.0\\n  (0, 6)\\t1.0\\n ...\n",
            "2     (0, 0)\\t1.0\\n  (0, 3)\\t1.0\\n  (0, 6)\\t1.0\\n ...\n",
            "3     (0, 2)\\t1.0\\n  (0, 5)\\t1.0\\n  (0, 6)\\t1.0\\n ...\n",
            "4     (0, 2)\\t1.0\\n  (0, 4)\\t1.0\\n  (0, 7)\\t1.0\\n ...\n",
            "5     (0, 2)\\t1.0\\n  (0, 4)\\t1.0\\n  (0, 7)\\t1.0\\n ...\n",
            "6     (0, 0)\\t1.0\\n  (0, 4)\\t1.0\\n  (0, 7)\\t1.0\\n ...\n",
            "7     (0, 1)\\t1.0\\n  (0, 5)\\t1.0\\n  (0, 6)\\t1.0\\n ...\n",
            "8     (0, 1)\\t1.0\\n  (0, 4)\\t1.0\\n  (0, 7)\\t1.0\\n ...\n",
            "9     (0, 2)\\t1.0\\n  (0, 5)\\t1.0\\n  (0, 7)\\t1.0\\n ...\n",
            "10    (0, 1)\\t1.0\\n  (0, 5)\\t1.0\\n  (0, 7)\\t1.0\\n ...\n",
            "11    (0, 0)\\t1.0\\n  (0, 5)\\t1.0\\n  (0, 6)\\t1.0\\n ...\n",
            "12    (0, 0)\\t1.0\\n  (0, 3)\\t1.0\\n  (0, 7)\\t1.0\\n ...\n",
            "13    (0, 2)\\t1.0\\n  (0, 5)\\t1.0\\n  (0, 6)\\t1.0\\n ...\n",
            "        age  income student credit_rating Class: buys_computer  \\\n",
            "0      <=30    high      no          fair                   no   \n",
            "1      <=30    high      no     excellent                   no   \n",
            "2   31...40    high      no          fair                  yes   \n",
            "3       >40  medium      no          fair                  yes   \n",
            "4       >40     low     yes          fair                  yes   \n",
            "5       >40     low     yes     excellent                   no   \n",
            "6   31...40     low     yes     excellent                  yes   \n",
            "7      <=30  medium      no          fair                   no   \n",
            "8      <=30     low     yes          fair                  yes   \n",
            "9       >40  medium     yes          fair                  yes   \n",
            "10     <=30  medium     yes     excellent                  yes   \n",
            "11  31...40  medium      no     excellent                  yes   \n",
            "12  31...40    high     yes          fair                  yes   \n",
            "13      >40  medium      no     excellent                   no   \n",
            "\n",
            "                                                    0  \n",
            "0     (0, 1)\\t1.0\\n  (0, 3)\\t1.0\\n  (0, 6)\\t1.0\\n ...  \n",
            "1     (0, 1)\\t1.0\\n  (0, 3)\\t1.0\\n  (0, 6)\\t1.0\\n ...  \n",
            "2     (0, 0)\\t1.0\\n  (0, 3)\\t1.0\\n  (0, 6)\\t1.0\\n ...  \n",
            "3     (0, 2)\\t1.0\\n  (0, 5)\\t1.0\\n  (0, 6)\\t1.0\\n ...  \n",
            "4     (0, 2)\\t1.0\\n  (0, 4)\\t1.0\\n  (0, 7)\\t1.0\\n ...  \n",
            "5     (0, 2)\\t1.0\\n  (0, 4)\\t1.0\\n  (0, 7)\\t1.0\\n ...  \n",
            "6     (0, 0)\\t1.0\\n  (0, 4)\\t1.0\\n  (0, 7)\\t1.0\\n ...  \n",
            "7     (0, 1)\\t1.0\\n  (0, 5)\\t1.0\\n  (0, 6)\\t1.0\\n ...  \n",
            "8     (0, 1)\\t1.0\\n  (0, 4)\\t1.0\\n  (0, 7)\\t1.0\\n ...  \n",
            "9     (0, 2)\\t1.0\\n  (0, 5)\\t1.0\\n  (0, 7)\\t1.0\\n ...  \n",
            "10    (0, 1)\\t1.0\\n  (0, 5)\\t1.0\\n  (0, 7)\\t1.0\\n ...  \n",
            "11    (0, 0)\\t1.0\\n  (0, 5)\\t1.0\\n  (0, 6)\\t1.0\\n ...  \n",
            "12    (0, 0)\\t1.0\\n  (0, 3)\\t1.0\\n  (0, 7)\\t1.0\\n ...  \n",
            "13    (0, 2)\\t1.0\\n  (0, 5)\\t1.0\\n  (0, 6)\\t1.0\\n ...  \n"
          ]
        }
      ]
    },
    {
      "cell_type": "code",
      "source": [
        "X=data.drop(['Class: buys_computer'],axis=1)\n",
        "y=data['Class: buys_computer']\n",
        "from sklearn.model_selection import train_test_split\n",
        "X_train, X_test, y_train, y_test = train_test_split(X, y, test_size=0.25,random_state = 0)\n",
        "from sklearn.preprocessing import OneHotEncoder\n",
        "cols = ['age','income','student','credit_rating']\n",
        "encoder = OneHotEncoder(sparse_output=False)\n",
        "X_train = encoder.fit_transform(X_train[cols])\n",
        "X_test = encoder.transform(X_test[cols])"
      ],
      "metadata": {
        "id": "QYGtFF9jo5ug"
      },
      "execution_count": null,
      "outputs": []
    },
    {
      "cell_type": "code",
      "source": [
        "from sklearn.naive_bayes import GaussianNB\n",
        "model_gnb = GaussianNB()\n",
        "model_gnb.fit(X_train, y_train)\n",
        "y_pred = model_gnb.predict(X_test)\n",
        "from sklearn.metrics import accuracy_score\n",
        "print(100*accuracy_score(y_test, y_pred))\n",
        "print()\n",
        "from sklearn.metrics import confusion_matrix\n",
        "cm = confusion_matrix(y_test, y_pred)\n",
        "print('Confusion Matrix')\n",
        "print(cm)"
      ],
      "metadata": {
        "colab": {
          "base_uri": "https://localhost:8080/"
        },
        "id": "P-LL6RwbpAXl",
        "outputId": "2018a024-f7e1-43bb-d709-74d520873272"
      },
      "execution_count": null,
      "outputs": [
        {
          "output_type": "stream",
          "name": "stdout",
          "text": [
            "50.0\n",
            "\n",
            "Confusion Matrix\n",
            "[[0 0]\n",
            " [2 2]]\n"
          ]
        }
      ]
    }
  ]
}